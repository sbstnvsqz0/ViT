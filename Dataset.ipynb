{
 "cells": [
  {
   "cell_type": "code",
   "execution_count": 1,
   "id": "89ba0ca7-cd75-4eb8-aa04-003ca19e6a9a",
   "metadata": {},
   "outputs": [],
   "source": [
    "import sys\n",
    "import os"
   ]
  },
  {
   "cell_type": "code",
   "execution_count": 42,
   "id": "3031033d-8618-4c07-90df-f87c2117c0b4",
   "metadata": {},
   "outputs": [
    {
     "data": {
      "text/plain": [
       "['Akarna_Dhanurasana.txt',\n",
       " \"Bharadvaja's_Twist_pose_or_Bharadvajasana_I_.txt\",\n",
       " 'Boat_Pose_or_Paripurna_Navasana_.txt',\n",
       " 'Bound_Angle_Pose_or_Baddha_Konasana_.txt',\n",
       " 'Bow_Pose_or_Dhanurasana_.txt',\n",
       " 'Bridge_Pose_or_Setu_Bandha_Sarvangasana_.txt',\n",
       " 'Camel_Pose_or_Ustrasana_.txt',\n",
       " 'Cat_Cow_Pose_or_Marjaryasana_.txt',\n",
       " 'Chair_Pose_or_Utkatasana_.txt',\n",
       " 'Child_Pose_or_Balasana_.txt',\n",
       " 'Cobra_Pose_or_Bhujangasana_.txt',\n",
       " 'Cockerel_Pose.txt',\n",
       " 'Corpse_Pose_or_Savasana_.txt',\n",
       " 'Cow_Face_Pose_or_Gomukhasana_.txt',\n",
       " 'Crane_(Crow)_Pose_or_Bakasana_.txt',\n",
       " 'Dolphin_Plank_Pose_or_Makara_Adho_Mukha_Svanasana_.txt',\n",
       " 'Dolphin_Pose_or_Ardha_Pincha_Mayurasana_.txt',\n",
       " 'Downward-Facing_Dog_pose_or_Adho_Mukha_Svanasana_.txt',\n",
       " 'Eagle_Pose_or_Garudasana_.txt',\n",
       " 'Eight-Angle_Pose_or_Astavakrasana_.txt',\n",
       " 'Extended_Puppy_Pose_or_Uttana_Shishosana_.txt',\n",
       " 'Extended_Revolved_Side_Angle_Pose_or_Utthita_Parsvakonasana_.txt',\n",
       " 'Extended_Revolved_Triangle_Pose_or_Utthita_Trikonasana_.txt',\n",
       " 'Feathered_Peacock_Pose_or_Pincha_Mayurasana_.txt',\n",
       " 'Firefly_Pose_or_Tittibhasana_.txt',\n",
       " 'Fish_Pose_or_Matsyasana_.txt',\n",
       " 'Four-Limbed_Staff_Pose_or_Chaturanga_Dandasana_.txt',\n",
       " 'Frog_Pose_or_Bhekasana.txt',\n",
       " 'Garland_Pose_or_Malasana_.txt',\n",
       " 'Gate_Pose_or_Parighasana_.txt',\n",
       " 'Half_Lord_of_the_Fishes_Pose_or_Ardha_Matsyendrasana_.txt',\n",
       " 'Half_Moon_Pose_or_Ardha_Chandrasana_.txt',\n",
       " 'Handstand_pose_or_Adho_Mukha_Vrksasana_.txt',\n",
       " 'Happy_Baby_Pose_or_Ananda_Balasana_.txt',\n",
       " 'Head-to-Knee_Forward_Bend_pose_or_Janu_Sirsasana_.txt',\n",
       " 'Heron_Pose_or_Krounchasana_.txt',\n",
       " 'Intense_Side_Stretch_Pose_or_Parsvottanasana_.txt',\n",
       " 'Legs-Up-the-Wall_Pose_or_Viparita_Karani_.txt',\n",
       " 'Locust_Pose_or_Salabhasana_.txt',\n",
       " 'Lord_of_the_Dance_Pose_or_Natarajasana_.txt',\n",
       " 'Low_Lunge_pose_or_Anjaneyasana_.txt',\n",
       " 'Noose_Pose_or_Pasasana_.txt',\n",
       " 'Peacock_Pose_or_Mayurasana_.txt',\n",
       " 'Pigeon_Pose_or_Kapotasana_.txt',\n",
       " 'Plank_Pose_or_Kumbhakasana_.txt',\n",
       " 'Plow_Pose_or_Halasana_.txt',\n",
       " 'Pose_Dedicated_to_the_Sage_Koundinya_or_Eka_Pada_Koundinyanasana_I_and_II.txt',\n",
       " 'Rajakapotasana.txt',\n",
       " 'Reclining_Hand-to-Big-Toe_Pose_or_Supta_Padangusthasana_.txt',\n",
       " 'Revolved_Head-to-Knee_Pose_or_Parivrtta_Janu_Sirsasana_.txt',\n",
       " 'Scale_Pose_or_Tolasana_.txt',\n",
       " 'Scorpion_pose_or_vrischikasana.txt',\n",
       " 'Seated_Forward_Bend_pose_or_Paschimottanasana_.txt',\n",
       " 'Shoulder-Pressing_Pose_or_Bhujapidasana_.txt',\n",
       " 'Side-Reclining_Leg_Lift_pose_or_Anantasana_.txt',\n",
       " 'Side_Crane_(Crow)_Pose_or_Parsva_Bakasana_.txt',\n",
       " 'Side_Plank_Pose_or_Vasisthasana_.txt',\n",
       " 'Sitting pose 1 (normal).txt',\n",
       " 'Split pose.txt',\n",
       " 'Staff_Pose_or_Dandasana_.txt',\n",
       " 'Standing_Forward_Bend_pose_or_Uttanasana_.txt',\n",
       " 'Standing_Split_pose_or_Urdhva_Prasarita_Eka_Padasana_.txt',\n",
       " 'Standing_big_toe_hold_pose_or_Utthita_Padangusthasana.txt',\n",
       " 'Supported_Headstand_pose_or_Salamba_Sirsasana_.txt',\n",
       " 'Supported_Shoulderstand_pose_or_Salamba_Sarvangasana_.txt',\n",
       " 'Supta_Baddha_Konasana_.txt',\n",
       " 'Supta_Virasana_Vajrasana.txt',\n",
       " 'Tortoise_Pose.txt',\n",
       " 'Tree_Pose_or_Vrksasana_.txt',\n",
       " 'Upward_Bow_(Wheel)_Pose_or_Urdhva_Dhanurasana_.txt',\n",
       " 'Upward_Facing_Two-Foot_Staff_Pose_or_Dwi_Pada_Viparita_Dandasana_.txt',\n",
       " 'Upward_Plank_Pose_or_Purvottanasana_.txt',\n",
       " 'Virasana_or_Vajrasana.txt',\n",
       " 'Warrior_III_Pose_or_Virabhadrasana_III_.txt',\n",
       " 'Warrior_II_Pose_or_Virabhadrasana_II_.txt',\n",
       " 'Warrior_I_Pose_or_Virabhadrasana_I_.txt',\n",
       " 'Wide-Angle_Seated_Forward_Bend_pose_or_Upavistha_Konasana_.txt',\n",
       " 'Wide-Legged_Forward_Bend_pose_or_Prasarita_Padottanasana_.txt',\n",
       " 'Wild_Thing_pose_or_Camatkarasana_.txt',\n",
       " 'Wind_Relieving_pose_or_Pawanmuktasana.txt',\n",
       " 'Yogic_sleep_pose.txt',\n",
       " 'viparita_virabhadrasana_or_reverse_warrior_pose.txt']"
      ]
     },
     "execution_count": 42,
     "metadata": {},
     "output_type": "execute_result"
    }
   ],
   "source": [
    "file_list = os.listdir(\"Yoga-82/yoga_dataset_links\");\n",
    "file_list.sort()\n",
    "file_list = file_list[1:]\n",
    "file_list"
   ]
  },
  {
   "cell_type": "markdown",
   "id": "0d3f449c",
   "metadata": {},
   "source": [
    "## Se descargarn imágenes desde links disponibles en yoga_dataset_links"
   ]
  },
  {
   "cell_type": "code",
   "execution_count": 5,
   "id": "83b3da69-2087-44a1-b8d8-56ce7bd6cfac",
   "metadata": {},
   "outputs": [],
   "source": [
    "os.mkdir(\"Images\")"
   ]
  },
  {
   "cell_type": "code",
   "execution_count": null,
   "id": "f0d23ecb-872f-48f4-927d-cca30cce1b79",
   "metadata": {
    "scrolled": true
   },
   "outputs": [],
   "source": [
    "import urllib.request\n",
    "import requests\n",
    "import shutil\n",
    "from PIL import Image\n",
    "from tqdm.notebook import tqdm\n",
    "\n",
    "for i in tqdm(range(len(file_list))):\n",
    "    f = open(\"Yoga-82/yoga_dataset_links/\" + file_list[i], 'r');\n",
    "    lines = f.readlines();\n",
    "    f.close();\n",
    "    \n",
    "    for j in tqdm(range(len(lines))):\n",
    "        #print(lines[j])\n",
    "        splits = lines[j][:len(lines[j])-1].split(\"\\t\")\n",
    "        img_path = splits[0];\n",
    "        link = splits[1];\n",
    "        \n",
    "        folder_name, img_name = img_path.split(\"/\");\n",
    "        if(j == 0):\n",
    "            if(not os.path.isdir(\"Images/\" + folder_name)):\n",
    "                os.mkdir(\"Images/\" + folder_name)\n",
    "        path = \"Images/\" + folder_name + \"/\" + img_name\n",
    "        try:\n",
    "            r = requests.get(link, stream=True , headers={'User-agent': 'Mozilla/5.0'}, timeout = 5)\n",
    "        except:\n",
    "            continue\n",
    "        if r.status_code == 200:\n",
    "            with open(path, 'wb') as f:\n",
    "                r.raw.decode_content = True\n",
    "                shutil.copyfileobj(r.raw, f)\n",
    "        \n",
    "        try:\n",
    "            img = Image.open(path)\n",
    "            img.verify()     # to veify if its an img\n",
    "            img.close()     #to close img and free memory space\n",
    "        except (IOError, SyntaxError) as e:\n",
    "            try:\n",
    "                os.remove(path)\n",
    "            except:\n",
    "                continue"
   ]
  },
  {
   "cell_type": "markdown",
   "id": "2a2a6e95",
   "metadata": {},
   "source": [
    "## Se arma carpeta de test"
   ]
  },
  {
   "cell_type": "code",
   "execution_count": 61,
   "id": "34b38f0a-e808-4d34-8894-cc2fa374f94a",
   "metadata": {},
   "outputs": [],
   "source": [
    "os.mkdir(\"Test\")"
   ]
  },
  {
   "cell_type": "code",
   "execution_count": 4,
   "id": "85dfa0c4-3110-42d3-af13-096f470c1a15",
   "metadata": {},
   "outputs": [],
   "source": [
    "f = open(\"Yoga-82/yoga_test.txt\");\n",
    "lines = f.readlines();\n",
    "f.close();"
   ]
  },
  {
   "cell_type": "code",
   "execution_count": 9,
   "id": "f4438230-50b6-4636-87ab-fb040f2b51fa",
   "metadata": {},
   "outputs": [
    {
     "data": {
      "application/vnd.jupyter.widget-view+json": {
       "model_id": "9a6c95f13389465ab7876f6eb0674afa",
       "version_major": 2,
       "version_minor": 0
      },
      "text/plain": [
       "  0%|          | 0/7456 [00:00<?, ?it/s]"
      ]
     },
     "metadata": {},
     "output_type": "display_data"
    }
   ],
   "source": [
    "from tqdm.notebook import tqdm\n",
    "for i in tqdm(range(len(lines))):\n",
    "    folder_name, img_name = lines[i].split(\",\")[0].split(\"/\");\n",
    "    if(not os.path.isdir(\"Test/\" + folder_name)):\n",
    "        os.mkdir(\"Test/\" + folder_name);\n",
    "    path = \"Images/\" + folder_name + \"/\" + img_name;\n",
    "    if os.path.exists(path):\n",
    "        os.system(\"mv \" + path + \" Test/\" + folder_name)"
   ]
  },
  {
   "cell_type": "code",
   "execution_count": 24,
   "id": "b09b966d-e992-4ce3-8627-9a8ccd23cadd",
   "metadata": {},
   "outputs": [
    {
     "name": "stdout",
     "output_type": "stream",
     "text": [
      "{'Akarna_Dhanurasana': 26, \"Bharadvaja's_Twist_pose_or_Bharadvajasana_I_\": 0, 'Boat_Pose_or_Paripurna_Navasana_': 94, 'Bound_Angle_Pose_or_Baddha_Konasana_': 65, 'Bow_Pose_or_Dhanurasana_': 51, 'Bridge_Pose_or_Setu_Bandha_Sarvangasana_': 58, 'Camel_Pose_or_Ustrasana_': 70, 'Cat_Cow_Pose_or_Marjaryasana_': 111, 'Chair_Pose_or_Utkatasana_': 69, 'Child_Pose_or_Balasana_': 80, 'Cobra_Pose_or_Bhujangasana_': 198, 'Cockerel_Pose': 36, 'Corpse_Pose_or_Savasana_': 66, 'Cow_Face_Pose_or_Gomukhasana_': 68, 'Crane_(Crow)_Pose_or_Bakasana_': 81, 'Dolphin_Plank_Pose_or_Makara_Adho_Mukha_Svanasana_': 7, 'Dolphin_Pose_or_Ardha_Pincha_Mayurasana_': 21, 'Downward-Facing_Dog_pose_or_Adho_Mukha_Svanasana_': 72, 'Eagle_Pose_or_Garudasana_': 74, 'Eight-Angle_Pose_or_Astavakrasana_': 49, 'Extended_Puppy_Pose_or_Uttana_Shishosana_': 19, 'Extended_Revolved_Side_Angle_Pose_or_Utthita_Parsvakonasana_': 122, 'Extended_Revolved_Triangle_Pose_or_Utthita_Trikonasana_': 127, 'Feathered_Peacock_Pose_or_Pincha_Mayurasana_': 50, 'Firefly_Pose_or_Tittibhasana_': 51, 'Fish_Pose_or_Matsyasana_': 68, 'Four-Limbed_Staff_Pose_or_Chaturanga_Dandasana_': 54, 'Frog_Pose_or_Bhekasana': 45, 'Garland_Pose_or_Malasana_': 58, 'Gate_Pose_or_Parighasana_': 35, 'Half_Lord_of_the_Fishes_Pose_or_Ardha_Matsyendrasana_': 89, 'Half_Moon_Pose_or_Ardha_Chandrasana_': 58, 'Handstand_pose_or_Adho_Mukha_Vrksasana_': 48, 'Happy_Baby_Pose_or_Ananda_Balasana_': 38, 'Head-to-Knee_Forward_Bend_pose_or_Janu_Sirsasana_': 48, 'Heron_Pose_or_Krounchasana_': 34, 'Intense_Side_Stretch_Pose_or_Parsvottanasana_': 44, 'Legs-Up-the-Wall_Pose_or_Viparita_Karani_': 55, 'Locust_Pose_or_Salabhasana_': 50, 'Lord_of_the_Dance_Pose_or_Natarajasana_': 101, 'Low_Lunge_pose_or_Anjaneyasana_': 69, 'Noose_Pose_or_Pasasana_': 11, 'Peacock_Pose_or_Mayurasana_': 32, 'Pigeon_Pose_or_Kapotasana_': 10, 'Plank_Pose_or_Kumbhakasana_': 14, 'Plow_Pose_or_Halasana_': 78, 'Pose_Dedicated_to_the_Sage_Koundinya_or_Eka_Pada_Koundinyanasana_I_and_II': 38, 'Rajakapotasana': 60, 'Reclining_Hand-to-Big-Toe_Pose_or_Supta_Padangusthasana_': 43, 'Revolved_Head-to-Knee_Pose_or_Parivrtta_Janu_Sirsasana_': 54, 'Scale_Pose_or_Tolasana_': 33, 'Scorpion_pose_or_vrischikasana': 58, 'Seated_Forward_Bend_pose_or_Paschimottanasana_': 92, 'Shoulder-Pressing_Pose_or_Bhujapidasana_': 22, 'Side-Reclining_Leg_Lift_pose_or_Anantasana_': 16, 'Side_Crane_(Crow)_Pose_or_Parsva_Bakasana_': 44, 'Side_Plank_Pose_or_Vasisthasana_': 74, 'Sitting pose 1 (normal)': 0, 'Split pose': 0, 'Staff_Pose_or_Dandasana_': 18, 'Standing_big_toe_hold_pose_or_Utthita_Padangusthasana': 51, 'Standing_Forward_Bend_pose_or_Uttanasana_': 96, 'Standing_Split_pose_or_Urdhva_Prasarita_Eka_Padasana_': 35, 'Supported_Headstand_pose_or_Salamba_Sirsasana_': 76, 'Supported_Shoulderstand_pose_or_Salamba_Sarvangasana_': 72, 'Supta_Baddha_Konasana_': 84, 'Supta_Virasana_Vajrasana': 82, 'Tortoise_Pose': 41, 'Tree_Pose_or_Vrksasana_': 54, 'Upward_Bow_(Wheel)_Pose_or_Urdhva_Dhanurasana_': 85, 'Upward_Facing_Two-Foot_Staff_Pose_or_Dwi_Pada_Viparita_Dandasana_': 24, 'Upward_Plank_Pose_or_Purvottanasana_': 54, 'viparita_virabhadrasana_or_reverse_warrior_pose': 45, 'Virasana_or_Vajrasana': 90, 'Warrior_III_Pose_or_Virabhadrasana_III_': 44, 'Warrior_II_Pose_or_Virabhadrasana_II_': 70, 'Warrior_I_Pose_or_Virabhadrasana_I_': 40, 'Wide-Angle_Seated_Forward_Bend_pose_or_Upavistha_Konasana_': 55, 'Wide-Legged_Forward_Bend_pose_or_Prasarita_Padottanasana_': 77, 'Wild_Thing_pose_or_Camatkarasana_': 46, 'Wind_Relieving_pose_or_Pawanmuktasana': 43, 'Yogic_sleep_pose': 11}\n"
     ]
    }
   ],
   "source": [
    "from os.path import isfile, join\n",
    "count = {}\n",
    "dirs = os.listdir(\"Test\")\n",
    "for k in range(len(dirs)):\n",
    "    path = \"Test/\"+str(dirs[k])\n",
    "    names = [f for f in os.listdir(path) if isfile (join(path,f))]\n",
    "    count[dirs[k]] = len(names)\n",
    "print(count)"
   ]
  },
  {
   "cell_type": "markdown",
   "id": "5b460bba",
   "metadata": {},
   "source": [
    "Se buscan carpetas con 0 imágenes (debido a que varias imágenes no se pudieron descargar)."
   ]
  },
  {
   "cell_type": "code",
   "execution_count": 25,
   "id": "11d7238c",
   "metadata": {},
   "outputs": [
    {
     "name": "stdout",
     "output_type": "stream",
     "text": [
      "[\"Bharadvaja's_Twist_pose_or_Bharadvajasana_I_\", 'Sitting pose 1 (normal)', 'Split pose']\n"
     ]
    }
   ],
   "source": [
    "zeros = [key for key, value in count.items() if value == 0]\n",
    "print(zeros)"
   ]
  },
  {
   "cell_type": "markdown",
   "id": "6d28fec9",
   "metadata": {},
   "source": [
    "Mueve desde carpeta Images a Test un 15% de imágenes"
   ]
  },
  {
   "cell_type": "code",
   "execution_count": 89,
   "id": "13b6e15b",
   "metadata": {},
   "outputs": [],
   "source": [
    "# Solo correr una vezgit ad\n",
    "import random\n",
    "from pathlib import Path\n",
    "for dir in zeros:\n",
    "    path = \"Images/\"+dir\n",
    "    dest = \"Test/\"+dir\n",
    "    files = [f for f in os.listdir(path) if isfile (join(path,f))]\n",
    "    to_test = int (15/100*len(files))\n",
    "    i = 0 \n",
    "    while (i<to_test):\n",
    "        name = random.choice(files)\n",
    "        if os.path.exists(path + \"/\"+name):\n",
    "            os.rename(path +\"/\"+ name, dest+\"/\"+name)\n",
    "            i+=1"
   ]
  }
 ],
 "metadata": {
  "kernelspec": {
   "display_name": "Python 3 (ipykernel)",
   "language": "python",
   "name": "python3"
  },
  "language_info": {
   "codemirror_mode": {
    "name": "ipython",
    "version": 3
   },
   "file_extension": ".py",
   "mimetype": "text/x-python",
   "name": "python",
   "nbconvert_exporter": "python",
   "pygments_lexer": "ipython3",
   "version": "3.10.13"
  }
 },
 "nbformat": 4,
 "nbformat_minor": 5
}
